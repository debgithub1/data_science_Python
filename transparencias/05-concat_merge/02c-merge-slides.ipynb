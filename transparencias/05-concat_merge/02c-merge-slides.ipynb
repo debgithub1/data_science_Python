{
 "cells": [
  {
   "cell_type": "markdown",
   "metadata": {
    "slideshow": {
     "slide_type": "slide"
    }
   },
   "source": [
    "#  Usar el parámetro `indicator` para añadir una columna con la procedencia de cada fila"
   ]
  },
  {
   "cell_type": "code",
   "execution_count": 1,
   "metadata": {
    "slideshow": {
     "slide_type": "fragment"
    }
   },
   "outputs": [],
   "source": [
    "# Preliminares\n",
    "import pandas as pd\n",
    "import numpy as np"
   ]
  },
  {
   "cell_type": "markdown",
   "metadata": {
    "slideshow": {
     "slide_type": "slide"
    }
   },
   "source": [
    "Consideramos los dos `DataFrame`s:"
   ]
  },
  {
   "cell_type": "code",
   "execution_count": 2,
   "metadata": {
    "slideshow": {
     "slide_type": "fragment"
    }
   },
   "outputs": [
    {
     "data": {
      "text/html": [
       "<div>\n",
       "<style scoped>\n",
       "    .dataframe tbody tr th:only-of-type {\n",
       "        vertical-align: middle;\n",
       "    }\n",
       "\n",
       "    .dataframe tbody tr th {\n",
       "        vertical-align: top;\n",
       "    }\n",
       "\n",
       "    .dataframe thead th {\n",
       "        text-align: right;\n",
       "    }\n",
       "</style>\n",
       "<table border=\"1\" class=\"dataframe\">\n",
       "  <thead>\n",
       "    <tr style=\"text-align: right;\">\n",
       "      <th></th>\n",
       "      <th>dni</th>\n",
       "      <th>nombre</th>\n",
       "      <th>apellido1</th>\n",
       "      <th>apellido2</th>\n",
       "    </tr>\n",
       "  </thead>\n",
       "  <tbody>\n",
       "    <tr>\n",
       "      <th>0</th>\n",
       "      <td>12345678</td>\n",
       "      <td>José</td>\n",
       "      <td>Pérez</td>\n",
       "      <td>Martínez</td>\n",
       "    </tr>\n",
       "    <tr>\n",
       "      <th>1</th>\n",
       "      <td>23456789</td>\n",
       "      <td>Pedro</td>\n",
       "      <td>Martínez</td>\n",
       "      <td>Moreno</td>\n",
       "    </tr>\n",
       "    <tr>\n",
       "      <th>2</th>\n",
       "      <td>34567890</td>\n",
       "      <td>María</td>\n",
       "      <td>Sánchez</td>\n",
       "      <td>Meseguer</td>\n",
       "    </tr>\n",
       "    <tr>\n",
       "      <th>3</th>\n",
       "      <td>01234567</td>\n",
       "      <td>Blanca</td>\n",
       "      <td>Ruiz</td>\n",
       "      <td>Torres</td>\n",
       "    </tr>\n",
       "  </tbody>\n",
       "</table>\n",
       "</div>"
      ],
      "text/plain": [
       "        dni  nombre apellido1 apellido2\n",
       "0  12345678    José     Pérez  Martínez\n",
       "1  23456789   Pedro  Martínez    Moreno\n",
       "2  34567890   María   Sánchez  Meseguer\n",
       "3  01234567  Blanca      Ruiz    Torres"
      ]
     },
     "execution_count": 2,
     "metadata": {},
     "output_type": "execute_result"
    }
   ],
   "source": [
    "clientes= pd.DataFrame(\n",
    "    {'dni': ['12345678', '23456789', '34567890', '01234567'],\n",
    "     'nombre': ['José', 'Pedro', 'María', 'Blanca'],\n",
    "     'apellido1': ['Pérez', 'Martínez', 'Sánchez', 'Ruiz'],\n",
    "     'apellido2': ['Martínez', 'Moreno', 'Meseguer', 'Torres']\n",
    "    }\n",
    ")\n",
    "clientes"
   ]
  },
  {
   "cell_type": "code",
   "execution_count": 3,
   "metadata": {
    "slideshow": {
     "slide_type": "fragment"
    }
   },
   "outputs": [
    {
     "data": {
      "text/html": [
       "<div>\n",
       "<style scoped>\n",
       "    .dataframe tbody tr th:only-of-type {\n",
       "        vertical-align: middle;\n",
       "    }\n",
       "\n",
       "    .dataframe tbody tr th {\n",
       "        vertical-align: top;\n",
       "    }\n",
       "\n",
       "    .dataframe thead th {\n",
       "        text-align: right;\n",
       "    }\n",
       "</style>\n",
       "<table border=\"1\" class=\"dataframe\">\n",
       "  <thead>\n",
       "    <tr style=\"text-align: right;\">\n",
       "      <th></th>\n",
       "      <th>id</th>\n",
       "      <th>dni</th>\n",
       "      <th>id_producto</th>\n",
       "    </tr>\n",
       "  </thead>\n",
       "  <tbody>\n",
       "    <tr>\n",
       "      <th>0</th>\n",
       "      <td>10</td>\n",
       "      <td>23456789</td>\n",
       "      <td>AAA123</td>\n",
       "    </tr>\n",
       "    <tr>\n",
       "      <th>1</th>\n",
       "      <td>12</td>\n",
       "      <td>23456789</td>\n",
       "      <td>SOX433</td>\n",
       "    </tr>\n",
       "    <tr>\n",
       "      <th>2</th>\n",
       "      <td>21</td>\n",
       "      <td>12345678</td>\n",
       "      <td>QWE000</td>\n",
       "    </tr>\n",
       "    <tr>\n",
       "      <th>3</th>\n",
       "      <td>22</td>\n",
       "      <td>12345678</td>\n",
       "      <td>SOX433</td>\n",
       "    </tr>\n",
       "    <tr>\n",
       "      <th>4</th>\n",
       "      <td>24</td>\n",
       "      <td>12345678</td>\n",
       "      <td>PII342</td>\n",
       "    </tr>\n",
       "    <tr>\n",
       "      <th>5</th>\n",
       "      <td>25</td>\n",
       "      <td>34567890</td>\n",
       "      <td>ZXY099</td>\n",
       "    </tr>\n",
       "    <tr>\n",
       "      <th>6</th>\n",
       "      <td>28</td>\n",
       "      <td>87654321</td>\n",
       "      <td>PII342</td>\n",
       "    </tr>\n",
       "  </tbody>\n",
       "</table>\n",
       "</div>"
      ],
      "text/plain": [
       "   id       dni id_producto\n",
       "0  10  23456789      AAA123\n",
       "1  12  23456789      SOX433\n",
       "2  21  12345678      QWE000\n",
       "3  22  12345678      SOX433\n",
       "4  24  12345678      PII342\n",
       "5  25  34567890      ZXY099\n",
       "6  28  87654321      PII342"
      ]
     },
     "execution_count": 3,
     "metadata": {},
     "output_type": "execute_result"
    }
   ],
   "source": [
    "pedidos= pd.DataFrame(\n",
    "    {'id': [10, 12, 21, 22, 24, 25, 28], \n",
    "     'dni': np.repeat(['23456789','12345678', '34567890', '87654321'], repeats=[2, 3, 1, 1]),\n",
    "     'id_producto': ['AAA123', 'SOX433', 'QWE000', 'SOX433', 'PII342', 'ZXY099','PII342']})\n",
    "pedidos"
   ]
  },
  {
   "cell_type": "markdown",
   "metadata": {
    "slideshow": {
     "slide_type": "slide"
    }
   },
   "source": [
    "Al usar `indicator=True`, `merge` añadirá una columna llamada `_merge` al resultado, con tres valores posibles\n",
    "- \"both\": en el caso en el valor de la clave está en ambos `DataFrame`s\n",
    "- \"left_only\": si el valor de la clave aparece en el `DataFrame` de la izquierda pero no en el de la derecha\n",
    "- \"right_only\": si el valor de la clave aparece en el `DataFrame` de la derecha pero"
   ]
  },
  {
   "cell_type": "code",
   "execution_count": 4,
   "metadata": {
    "slideshow": {
     "slide_type": "fragment"
    }
   },
   "outputs": [
    {
     "data": {
      "text/html": [
       "<div>\n",
       "<style scoped>\n",
       "    .dataframe tbody tr th:only-of-type {\n",
       "        vertical-align: middle;\n",
       "    }\n",
       "\n",
       "    .dataframe tbody tr th {\n",
       "        vertical-align: top;\n",
       "    }\n",
       "\n",
       "    .dataframe thead th {\n",
       "        text-align: right;\n",
       "    }\n",
       "</style>\n",
       "<table border=\"1\" class=\"dataframe\">\n",
       "  <thead>\n",
       "    <tr style=\"text-align: right;\">\n",
       "      <th></th>\n",
       "      <th>dni</th>\n",
       "      <th>nombre</th>\n",
       "      <th>apellido1</th>\n",
       "      <th>apellido2</th>\n",
       "      <th>id</th>\n",
       "      <th>id_producto</th>\n",
       "      <th>_merge</th>\n",
       "    </tr>\n",
       "  </thead>\n",
       "  <tbody>\n",
       "    <tr>\n",
       "      <th>0</th>\n",
       "      <td>12345678</td>\n",
       "      <td>José</td>\n",
       "      <td>Pérez</td>\n",
       "      <td>Martínez</td>\n",
       "      <td>21.0</td>\n",
       "      <td>QWE000</td>\n",
       "      <td>both</td>\n",
       "    </tr>\n",
       "    <tr>\n",
       "      <th>1</th>\n",
       "      <td>12345678</td>\n",
       "      <td>José</td>\n",
       "      <td>Pérez</td>\n",
       "      <td>Martínez</td>\n",
       "      <td>22.0</td>\n",
       "      <td>SOX433</td>\n",
       "      <td>both</td>\n",
       "    </tr>\n",
       "    <tr>\n",
       "      <th>2</th>\n",
       "      <td>12345678</td>\n",
       "      <td>José</td>\n",
       "      <td>Pérez</td>\n",
       "      <td>Martínez</td>\n",
       "      <td>24.0</td>\n",
       "      <td>PII342</td>\n",
       "      <td>both</td>\n",
       "    </tr>\n",
       "    <tr>\n",
       "      <th>3</th>\n",
       "      <td>23456789</td>\n",
       "      <td>Pedro</td>\n",
       "      <td>Martínez</td>\n",
       "      <td>Moreno</td>\n",
       "      <td>10.0</td>\n",
       "      <td>AAA123</td>\n",
       "      <td>both</td>\n",
       "    </tr>\n",
       "    <tr>\n",
       "      <th>4</th>\n",
       "      <td>23456789</td>\n",
       "      <td>Pedro</td>\n",
       "      <td>Martínez</td>\n",
       "      <td>Moreno</td>\n",
       "      <td>12.0</td>\n",
       "      <td>SOX433</td>\n",
       "      <td>both</td>\n",
       "    </tr>\n",
       "    <tr>\n",
       "      <th>5</th>\n",
       "      <td>34567890</td>\n",
       "      <td>María</td>\n",
       "      <td>Sánchez</td>\n",
       "      <td>Meseguer</td>\n",
       "      <td>25.0</td>\n",
       "      <td>ZXY099</td>\n",
       "      <td>both</td>\n",
       "    </tr>\n",
       "    <tr>\n",
       "      <th>6</th>\n",
       "      <td>01234567</td>\n",
       "      <td>Blanca</td>\n",
       "      <td>Ruiz</td>\n",
       "      <td>Torres</td>\n",
       "      <td>NaN</td>\n",
       "      <td>NaN</td>\n",
       "      <td>left_only</td>\n",
       "    </tr>\n",
       "    <tr>\n",
       "      <th>7</th>\n",
       "      <td>87654321</td>\n",
       "      <td>NaN</td>\n",
       "      <td>NaN</td>\n",
       "      <td>NaN</td>\n",
       "      <td>28.0</td>\n",
       "      <td>PII342</td>\n",
       "      <td>right_only</td>\n",
       "    </tr>\n",
       "  </tbody>\n",
       "</table>\n",
       "</div>"
      ],
      "text/plain": [
       "        dni  nombre apellido1 apellido2    id id_producto      _merge\n",
       "0  12345678    José     Pérez  Martínez  21.0      QWE000        both\n",
       "1  12345678    José     Pérez  Martínez  22.0      SOX433        both\n",
       "2  12345678    José     Pérez  Martínez  24.0      PII342        both\n",
       "3  23456789   Pedro  Martínez    Moreno  10.0      AAA123        both\n",
       "4  23456789   Pedro  Martínez    Moreno  12.0      SOX433        both\n",
       "5  34567890   María   Sánchez  Meseguer  25.0      ZXY099        both\n",
       "6  01234567  Blanca      Ruiz    Torres   NaN         NaN   left_only\n",
       "7  87654321     NaN       NaN       NaN  28.0      PII342  right_only"
      ]
     },
     "execution_count": 4,
     "metadata": {},
     "output_type": "execute_result"
    }
   ],
   "source": [
    "clientes.merge(pedidos, how='outer', indicator=True)"
   ]
  },
  {
   "cell_type": "markdown",
   "metadata": {
    "slideshow": {
     "slide_type": "fragment"
    }
   },
   "source": [
    "Podríamos hacer el recuento de esta columna para obtener información sobre qué ha pasado en el merge"
   ]
  },
  {
   "cell_type": "code",
   "execution_count": 5,
   "metadata": {
    "slideshow": {
     "slide_type": "fragment"
    }
   },
   "outputs": [
    {
     "data": {
      "text/plain": [
       "both          6\n",
       "left_only     1\n",
       "right_only    1\n",
       "Name: _merge, dtype: int64"
      ]
     },
     "execution_count": 5,
     "metadata": {},
     "output_type": "execute_result"
    }
   ],
   "source": [
    "clientes.merge(pedidos, how='outer', indicator=True)['_merge'].value_counts()"
   ]
  }
 ],
 "metadata": {
  "kernelspec": {
   "display_name": "Python 3",
   "language": "python",
   "name": "python3"
  },
  "language_info": {
   "codemirror_mode": {
    "name": "ipython",
    "version": 3
   },
   "file_extension": ".py",
   "mimetype": "text/x-python",
   "name": "python",
   "nbconvert_exporter": "python",
   "pygments_lexer": "ipython3",
   "version": "3.7.9"
  }
 },
 "nbformat": 4,
 "nbformat_minor": 4
}
