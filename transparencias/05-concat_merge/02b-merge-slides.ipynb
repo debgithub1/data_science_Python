{
 "cells": [
  {
   "cell_type": "markdown",
   "metadata": {
    "slideshow": {
     "slide_type": "slide"
    }
   },
   "source": [
    "#  Usar el parámetro `on`, `left_on` y `right_on` en `merge` para especificar qué columnas se deben usar para casar filas al combinar los dos `DataFrames`\n",
    "\n",
    "Vimos que, por defecto, `merge` usa las columnas comunes en ambos `DataFrame`s para casar las filas"
   ]
  },
  {
   "cell_type": "code",
   "execution_count": 1,
   "metadata": {
    "slideshow": {
     "slide_type": "fragment"
    }
   },
   "outputs": [],
   "source": [
    "# Preliminares\n",
    "import pandas as pd\n",
    "import numpy as np"
   ]
  },
  {
   "cell_type": "markdown",
   "metadata": {
    "slideshow": {
     "slide_type": "slide"
    }
   },
   "source": [
    "Consideramos los dos `DataFrame`s:"
   ]
  },
  {
   "cell_type": "code",
   "execution_count": 2,
   "metadata": {
    "slideshow": {
     "slide_type": "fragment"
    }
   },
   "outputs": [
    {
     "data": {
      "text/html": [
       "<div>\n",
       "<style scoped>\n",
       "    .dataframe tbody tr th:only-of-type {\n",
       "        vertical-align: middle;\n",
       "    }\n",
       "\n",
       "    .dataframe tbody tr th {\n",
       "        vertical-align: top;\n",
       "    }\n",
       "\n",
       "    .dataframe thead th {\n",
       "        text-align: right;\n",
       "    }\n",
       "</style>\n",
       "<table border=\"1\" class=\"dataframe\">\n",
       "  <thead>\n",
       "    <tr style=\"text-align: right;\">\n",
       "      <th></th>\n",
       "      <th>dni</th>\n",
       "      <th>nombre</th>\n",
       "      <th>apellido1</th>\n",
       "      <th>apellido2</th>\n",
       "    </tr>\n",
       "  </thead>\n",
       "  <tbody>\n",
       "    <tr>\n",
       "      <th>0</th>\n",
       "      <td>12345678</td>\n",
       "      <td>José</td>\n",
       "      <td>Pérez</td>\n",
       "      <td>Martínez</td>\n",
       "    </tr>\n",
       "    <tr>\n",
       "      <th>1</th>\n",
       "      <td>23456789</td>\n",
       "      <td>Pedro</td>\n",
       "      <td>Martínez</td>\n",
       "      <td>Moreno</td>\n",
       "    </tr>\n",
       "    <tr>\n",
       "      <th>2</th>\n",
       "      <td>34567890</td>\n",
       "      <td>María</td>\n",
       "      <td>Sánchez</td>\n",
       "      <td>Meseguer</td>\n",
       "    </tr>\n",
       "    <tr>\n",
       "      <th>3</th>\n",
       "      <td>01234567</td>\n",
       "      <td>Blanca</td>\n",
       "      <td>Ruiz</td>\n",
       "      <td>Torres</td>\n",
       "    </tr>\n",
       "  </tbody>\n",
       "</table>\n",
       "</div>"
      ],
      "text/plain": [
       "        dni  nombre apellido1 apellido2\n",
       "0  12345678    José     Pérez  Martínez\n",
       "1  23456789   Pedro  Martínez    Moreno\n",
       "2  34567890   María   Sánchez  Meseguer\n",
       "3  01234567  Blanca      Ruiz    Torres"
      ]
     },
     "execution_count": 2,
     "metadata": {},
     "output_type": "execute_result"
    }
   ],
   "source": [
    "clientes= pd.DataFrame(\n",
    "    {'dni': ['12345678', '23456789', '34567890', '01234567'],\n",
    "     'nombre': ['José', 'Pedro', 'María', 'Blanca'],\n",
    "     'apellido1': ['Pérez', 'Martínez', 'Sánchez', 'Ruiz'],\n",
    "     'apellido2': ['Martínez', 'Moreno', 'Meseguer', 'Torres']\n",
    "    }\n",
    ")\n",
    "clientes"
   ]
  },
  {
   "cell_type": "code",
   "execution_count": 3,
   "metadata": {
    "slideshow": {
     "slide_type": "fragment"
    }
   },
   "outputs": [
    {
     "data": {
      "text/html": [
       "<div>\n",
       "<style scoped>\n",
       "    .dataframe tbody tr th:only-of-type {\n",
       "        vertical-align: middle;\n",
       "    }\n",
       "\n",
       "    .dataframe tbody tr th {\n",
       "        vertical-align: top;\n",
       "    }\n",
       "\n",
       "    .dataframe thead th {\n",
       "        text-align: right;\n",
       "    }\n",
       "</style>\n",
       "<table border=\"1\" class=\"dataframe\">\n",
       "  <thead>\n",
       "    <tr style=\"text-align: right;\">\n",
       "      <th></th>\n",
       "      <th>id</th>\n",
       "      <th>dni</th>\n",
       "      <th>id_producto</th>\n",
       "    </tr>\n",
       "  </thead>\n",
       "  <tbody>\n",
       "    <tr>\n",
       "      <th>0</th>\n",
       "      <td>10</td>\n",
       "      <td>23456789</td>\n",
       "      <td>AAA123</td>\n",
       "    </tr>\n",
       "    <tr>\n",
       "      <th>1</th>\n",
       "      <td>12</td>\n",
       "      <td>23456789</td>\n",
       "      <td>SOX433</td>\n",
       "    </tr>\n",
       "    <tr>\n",
       "      <th>2</th>\n",
       "      <td>21</td>\n",
       "      <td>12345678</td>\n",
       "      <td>QWE000</td>\n",
       "    </tr>\n",
       "    <tr>\n",
       "      <th>3</th>\n",
       "      <td>22</td>\n",
       "      <td>12345678</td>\n",
       "      <td>SOX433</td>\n",
       "    </tr>\n",
       "    <tr>\n",
       "      <th>4</th>\n",
       "      <td>24</td>\n",
       "      <td>12345678</td>\n",
       "      <td>PII342</td>\n",
       "    </tr>\n",
       "    <tr>\n",
       "      <th>5</th>\n",
       "      <td>25</td>\n",
       "      <td>34567890</td>\n",
       "      <td>ZXY099</td>\n",
       "    </tr>\n",
       "    <tr>\n",
       "      <th>6</th>\n",
       "      <td>28</td>\n",
       "      <td>87654321</td>\n",
       "      <td>PII342</td>\n",
       "    </tr>\n",
       "  </tbody>\n",
       "</table>\n",
       "</div>"
      ],
      "text/plain": [
       "   id       dni id_producto\n",
       "0  10  23456789      AAA123\n",
       "1  12  23456789      SOX433\n",
       "2  21  12345678      QWE000\n",
       "3  22  12345678      SOX433\n",
       "4  24  12345678      PII342\n",
       "5  25  34567890      ZXY099\n",
       "6  28  87654321      PII342"
      ]
     },
     "execution_count": 3,
     "metadata": {},
     "output_type": "execute_result"
    }
   ],
   "source": [
    "pedidos= pd.DataFrame(\n",
    "    {'id': [10, 12, 21, 22, 24, 25, 28], \n",
    "     'dni': np.repeat(['23456789','12345678', '34567890', '87654321'], repeats=[2, 3, 1, 1]),\n",
    "     'id_producto': ['AAA123', 'SOX433', 'QWE000', 'SOX433', 'PII342', 'ZXY099','PII342']})\n",
    "pedidos"
   ]
  },
  {
   "cell_type": "markdown",
   "metadata": {
    "slideshow": {
     "slide_type": "slide"
    }
   },
   "source": [
    "Consideramos ahora un `DataFrame` adicional"
   ]
  },
  {
   "cell_type": "code",
   "execution_count": 4,
   "metadata": {
    "slideshow": {
     "slide_type": "fragment"
    }
   },
   "outputs": [
    {
     "data": {
      "text/html": [
       "<div>\n",
       "<style scoped>\n",
       "    .dataframe tbody tr th:only-of-type {\n",
       "        vertical-align: middle;\n",
       "    }\n",
       "\n",
       "    .dataframe tbody tr th {\n",
       "        vertical-align: top;\n",
       "    }\n",
       "\n",
       "    .dataframe thead th {\n",
       "        text-align: right;\n",
       "    }\n",
       "</style>\n",
       "<table border=\"1\" class=\"dataframe\">\n",
       "  <thead>\n",
       "    <tr style=\"text-align: right;\">\n",
       "      <th></th>\n",
       "      <th>id</th>\n",
       "      <th>nombre</th>\n",
       "    </tr>\n",
       "  </thead>\n",
       "  <tbody>\n",
       "    <tr>\n",
       "      <th>0</th>\n",
       "      <td>AAA123</td>\n",
       "      <td>Pila</td>\n",
       "    </tr>\n",
       "    <tr>\n",
       "      <th>1</th>\n",
       "      <td>SOX433</td>\n",
       "      <td>Bombilla</td>\n",
       "    </tr>\n",
       "    <tr>\n",
       "      <th>2</th>\n",
       "      <td>QWE000</td>\n",
       "      <td>Interruptor</td>\n",
       "    </tr>\n",
       "    <tr>\n",
       "      <th>3</th>\n",
       "      <td>PII342</td>\n",
       "      <td>Enchufe</td>\n",
       "    </tr>\n",
       "    <tr>\n",
       "      <th>4</th>\n",
       "      <td>ZXY099</td>\n",
       "      <td>Toma</td>\n",
       "    </tr>\n",
       "  </tbody>\n",
       "</table>\n",
       "</div>"
      ],
      "text/plain": [
       "       id       nombre\n",
       "0  AAA123         Pila\n",
       "1  SOX433     Bombilla\n",
       "2  QWE000  Interruptor\n",
       "3  PII342      Enchufe\n",
       "4  ZXY099         Toma"
      ]
     },
     "execution_count": 4,
     "metadata": {},
     "output_type": "execute_result"
    }
   ],
   "source": [
    "productos = pd.DataFrame({\n",
    "        'id': ['AAA123', 'SOX433', 'QWE000', 'PII342', 'ZXY099'],\n",
    "        'nombre': ['Pila', 'Bombilla', 'Interruptor', 'Enchufe', 'Toma']})\n",
    "productos"
   ]
  },
  {
   "cell_type": "markdown",
   "metadata": {
    "slideshow": {
     "slide_type": "fragment"
    }
   },
   "source": [
    "> Queremos añadir la información de cada producto al `DataFrame` de los pedidos de cada cliente."
   ]
  },
  {
   "cell_type": "markdown",
   "metadata": {
    "slideshow": {
     "slide_type": "slide"
    }
   },
   "source": [
    "# Por defecto, `merge` usa las columnas en común "
   ]
  },
  {
   "cell_type": "markdown",
   "metadata": {},
   "source": [
    "Creemos el `DataFrame` de clientes_pedidos"
   ]
  },
  {
   "cell_type": "code",
   "execution_count": 5,
   "metadata": {
    "slideshow": {
     "slide_type": "fragment"
    }
   },
   "outputs": [
    {
     "data": {
      "text/html": [
       "<div>\n",
       "<style scoped>\n",
       "    .dataframe tbody tr th:only-of-type {\n",
       "        vertical-align: middle;\n",
       "    }\n",
       "\n",
       "    .dataframe tbody tr th {\n",
       "        vertical-align: top;\n",
       "    }\n",
       "\n",
       "    .dataframe thead th {\n",
       "        text-align: right;\n",
       "    }\n",
       "</style>\n",
       "<table border=\"1\" class=\"dataframe\">\n",
       "  <thead>\n",
       "    <tr style=\"text-align: right;\">\n",
       "      <th></th>\n",
       "      <th>dni</th>\n",
       "      <th>nombre</th>\n",
       "      <th>apellido1</th>\n",
       "      <th>apellido2</th>\n",
       "      <th>id</th>\n",
       "      <th>id_producto</th>\n",
       "    </tr>\n",
       "  </thead>\n",
       "  <tbody>\n",
       "    <tr>\n",
       "      <th>0</th>\n",
       "      <td>12345678</td>\n",
       "      <td>José</td>\n",
       "      <td>Pérez</td>\n",
       "      <td>Martínez</td>\n",
       "      <td>21.0</td>\n",
       "      <td>QWE000</td>\n",
       "    </tr>\n",
       "    <tr>\n",
       "      <th>1</th>\n",
       "      <td>12345678</td>\n",
       "      <td>José</td>\n",
       "      <td>Pérez</td>\n",
       "      <td>Martínez</td>\n",
       "      <td>22.0</td>\n",
       "      <td>SOX433</td>\n",
       "    </tr>\n",
       "    <tr>\n",
       "      <th>2</th>\n",
       "      <td>12345678</td>\n",
       "      <td>José</td>\n",
       "      <td>Pérez</td>\n",
       "      <td>Martínez</td>\n",
       "      <td>24.0</td>\n",
       "      <td>PII342</td>\n",
       "    </tr>\n",
       "    <tr>\n",
       "      <th>3</th>\n",
       "      <td>23456789</td>\n",
       "      <td>Pedro</td>\n",
       "      <td>Martínez</td>\n",
       "      <td>Moreno</td>\n",
       "      <td>10.0</td>\n",
       "      <td>AAA123</td>\n",
       "    </tr>\n",
       "    <tr>\n",
       "      <th>4</th>\n",
       "      <td>23456789</td>\n",
       "      <td>Pedro</td>\n",
       "      <td>Martínez</td>\n",
       "      <td>Moreno</td>\n",
       "      <td>12.0</td>\n",
       "      <td>SOX433</td>\n",
       "    </tr>\n",
       "    <tr>\n",
       "      <th>5</th>\n",
       "      <td>34567890</td>\n",
       "      <td>María</td>\n",
       "      <td>Sánchez</td>\n",
       "      <td>Meseguer</td>\n",
       "      <td>25.0</td>\n",
       "      <td>ZXY099</td>\n",
       "    </tr>\n",
       "    <tr>\n",
       "      <th>6</th>\n",
       "      <td>01234567</td>\n",
       "      <td>Blanca</td>\n",
       "      <td>Ruiz</td>\n",
       "      <td>Torres</td>\n",
       "      <td>NaN</td>\n",
       "      <td>NaN</td>\n",
       "    </tr>\n",
       "  </tbody>\n",
       "</table>\n",
       "</div>"
      ],
      "text/plain": [
       "        dni  nombre apellido1 apellido2    id id_producto\n",
       "0  12345678    José     Pérez  Martínez  21.0      QWE000\n",
       "1  12345678    José     Pérez  Martínez  22.0      SOX433\n",
       "2  12345678    José     Pérez  Martínez  24.0      PII342\n",
       "3  23456789   Pedro  Martínez    Moreno  10.0      AAA123\n",
       "4  23456789   Pedro  Martínez    Moreno  12.0      SOX433\n",
       "5  34567890   María   Sánchez  Meseguer  25.0      ZXY099\n",
       "6  01234567  Blanca      Ruiz    Torres   NaN         NaN"
      ]
     },
     "execution_count": 5,
     "metadata": {},
     "output_type": "execute_result"
    }
   ],
   "source": [
    "clientes_pedidos = clientes.merge(pedidos, how='left')\n",
    "clientes_pedidos"
   ]
  },
  {
   "cell_type": "markdown",
   "metadata": {
    "slideshow": {
     "slide_type": "slide"
    }
   },
   "source": [
    "# Intentamos ahora combinar `clientes_pedidos` con la información de productos\n",
    "\n",
    "> En este caso, intentará casar las columnas `nombre` y `id`"
   ]
  },
  {
   "cell_type": "code",
   "execution_count": 6,
   "metadata": {
    "slideshow": {
     "slide_type": "fragment"
    }
   },
   "outputs": [
    {
     "ename": "ValueError",
     "evalue": "You are trying to merge on float64 and object columns. If you wish to proceed you should use pd.concat",
     "output_type": "error",
     "traceback": [
      "\u001b[1;31m---------------------------------------------------------------------------\u001b[0m",
      "\u001b[1;31mValueError\u001b[0m                                Traceback (most recent call last)",
      "\u001b[1;32m<ipython-input-6-10fa1c934ab0>\u001b[0m in \u001b[0;36m<module>\u001b[1;34m\u001b[0m\n\u001b[1;32m----> 1\u001b[1;33m \u001b[0mclientes_pedidos\u001b[0m\u001b[1;33m.\u001b[0m\u001b[0mmerge\u001b[0m\u001b[1;33m(\u001b[0m\u001b[0mproductos\u001b[0m\u001b[1;33m)\u001b[0m\u001b[1;33m\u001b[0m\u001b[1;33m\u001b[0m\u001b[0m\n\u001b[0m",
      "\u001b[1;32m~\\Anaconda3\\lib\\site-packages\\pandas\\core\\frame.py\u001b[0m in \u001b[0;36mmerge\u001b[1;34m(self, right, how, on, left_on, right_on, left_index, right_index, sort, suffixes, copy, indicator, validate)\u001b[0m\n\u001b[0;32m   8203\u001b[0m             \u001b[0mcopy\u001b[0m\u001b[1;33m=\u001b[0m\u001b[0mcopy\u001b[0m\u001b[1;33m,\u001b[0m\u001b[1;33m\u001b[0m\u001b[1;33m\u001b[0m\u001b[0m\n\u001b[0;32m   8204\u001b[0m             \u001b[0mindicator\u001b[0m\u001b[1;33m=\u001b[0m\u001b[0mindicator\u001b[0m\u001b[1;33m,\u001b[0m\u001b[1;33m\u001b[0m\u001b[1;33m\u001b[0m\u001b[0m\n\u001b[1;32m-> 8205\u001b[1;33m             \u001b[0mvalidate\u001b[0m\u001b[1;33m=\u001b[0m\u001b[0mvalidate\u001b[0m\u001b[1;33m,\u001b[0m\u001b[1;33m\u001b[0m\u001b[1;33m\u001b[0m\u001b[0m\n\u001b[0m\u001b[0;32m   8206\u001b[0m         )\n\u001b[0;32m   8207\u001b[0m \u001b[1;33m\u001b[0m\u001b[0m\n",
      "\u001b[1;32m~\\Anaconda3\\lib\\site-packages\\pandas\\core\\reshape\\merge.py\u001b[0m in \u001b[0;36mmerge\u001b[1;34m(left, right, how, on, left_on, right_on, left_index, right_index, sort, suffixes, copy, indicator, validate)\u001b[0m\n\u001b[0;32m     85\u001b[0m         \u001b[0mcopy\u001b[0m\u001b[1;33m=\u001b[0m\u001b[0mcopy\u001b[0m\u001b[1;33m,\u001b[0m\u001b[1;33m\u001b[0m\u001b[1;33m\u001b[0m\u001b[0m\n\u001b[0;32m     86\u001b[0m         \u001b[0mindicator\u001b[0m\u001b[1;33m=\u001b[0m\u001b[0mindicator\u001b[0m\u001b[1;33m,\u001b[0m\u001b[1;33m\u001b[0m\u001b[1;33m\u001b[0m\u001b[0m\n\u001b[1;32m---> 87\u001b[1;33m         \u001b[0mvalidate\u001b[0m\u001b[1;33m=\u001b[0m\u001b[0mvalidate\u001b[0m\u001b[1;33m,\u001b[0m\u001b[1;33m\u001b[0m\u001b[1;33m\u001b[0m\u001b[0m\n\u001b[0m\u001b[0;32m     88\u001b[0m     )\n\u001b[0;32m     89\u001b[0m     \u001b[1;32mreturn\u001b[0m \u001b[0mop\u001b[0m\u001b[1;33m.\u001b[0m\u001b[0mget_result\u001b[0m\u001b[1;33m(\u001b[0m\u001b[1;33m)\u001b[0m\u001b[1;33m\u001b[0m\u001b[1;33m\u001b[0m\u001b[0m\n",
      "\u001b[1;32m~\\Anaconda3\\lib\\site-packages\\pandas\\core\\reshape\\merge.py\u001b[0m in \u001b[0;36m__init__\u001b[1;34m(self, left, right, how, on, left_on, right_on, axis, left_index, right_index, sort, suffixes, copy, indicator, validate)\u001b[0m\n\u001b[0;32m    670\u001b[0m         \u001b[1;31m# validate the merge keys dtypes. We may need to coerce\u001b[0m\u001b[1;33m\u001b[0m\u001b[1;33m\u001b[0m\u001b[1;33m\u001b[0m\u001b[0m\n\u001b[0;32m    671\u001b[0m         \u001b[1;31m# to avoid incompatible dtypes\u001b[0m\u001b[1;33m\u001b[0m\u001b[1;33m\u001b[0m\u001b[1;33m\u001b[0m\u001b[0m\n\u001b[1;32m--> 672\u001b[1;33m         \u001b[0mself\u001b[0m\u001b[1;33m.\u001b[0m\u001b[0m_maybe_coerce_merge_keys\u001b[0m\u001b[1;33m(\u001b[0m\u001b[1;33m)\u001b[0m\u001b[1;33m\u001b[0m\u001b[1;33m\u001b[0m\u001b[0m\n\u001b[0m\u001b[0;32m    673\u001b[0m \u001b[1;33m\u001b[0m\u001b[0m\n\u001b[0;32m    674\u001b[0m         \u001b[1;31m# If argument passed to validate,\u001b[0m\u001b[1;33m\u001b[0m\u001b[1;33m\u001b[0m\u001b[1;33m\u001b[0m\u001b[0m\n",
      "\u001b[1;32m~\\Anaconda3\\lib\\site-packages\\pandas\\core\\reshape\\merge.py\u001b[0m in \u001b[0;36m_maybe_coerce_merge_keys\u001b[1;34m(self)\u001b[0m\n\u001b[0;32m   1191\u001b[0m                     \u001b[0minferred_right\u001b[0m \u001b[1;32min\u001b[0m \u001b[0mstring_types\u001b[0m \u001b[1;32mand\u001b[0m \u001b[0minferred_left\u001b[0m \u001b[1;32mnot\u001b[0m \u001b[1;32min\u001b[0m \u001b[0mstring_types\u001b[0m\u001b[1;33m\u001b[0m\u001b[1;33m\u001b[0m\u001b[0m\n\u001b[0;32m   1192\u001b[0m                 ):\n\u001b[1;32m-> 1193\u001b[1;33m                     \u001b[1;32mraise\u001b[0m \u001b[0mValueError\u001b[0m\u001b[1;33m(\u001b[0m\u001b[0mmsg\u001b[0m\u001b[1;33m)\u001b[0m\u001b[1;33m\u001b[0m\u001b[1;33m\u001b[0m\u001b[0m\n\u001b[0m\u001b[0;32m   1194\u001b[0m \u001b[1;33m\u001b[0m\u001b[0m\n\u001b[0;32m   1195\u001b[0m             \u001b[1;31m# datetimelikes must match exactly\u001b[0m\u001b[1;33m\u001b[0m\u001b[1;33m\u001b[0m\u001b[1;33m\u001b[0m\u001b[0m\n",
      "\u001b[1;31mValueError\u001b[0m: You are trying to merge on float64 and object columns. If you wish to proceed you should use pd.concat"
     ]
    }
   ],
   "source": [
    "clientes_pedidos.merge(productos)"
   ]
  },
  {
   "cell_type": "markdown",
   "metadata": {
    "slideshow": {
     "slide_type": "slide"
    }
   },
   "source": [
    "El error que devuelve es porque la columna `id` en los dos `DataFrame`s son de diferentes tipos. No se pueden unir usando dos columnas que no sean del mismo tipo. "
   ]
  },
  {
   "cell_type": "code",
   "execution_count": 7,
   "metadata": {
    "slideshow": {
     "slide_type": "fragment"
    }
   },
   "outputs": [
    {
     "data": {
      "text/plain": [
       "dni             object\n",
       "nombre          object\n",
       "apellido1       object\n",
       "apellido2       object\n",
       "id             float64\n",
       "id_producto     object\n",
       "dtype: object"
      ]
     },
     "execution_count": 7,
     "metadata": {},
     "output_type": "execute_result"
    }
   ],
   "source": [
    "# Comprobamos tipos\n",
    "clientes_pedidos.dtypes"
   ]
  },
  {
   "cell_type": "code",
   "execution_count": 8,
   "metadata": {
    "slideshow": {
     "slide_type": "fragment"
    }
   },
   "outputs": [
    {
     "data": {
      "text/plain": [
       "id        object\n",
       "nombre    object\n",
       "dtype: object"
      ]
     },
     "execution_count": 8,
     "metadata": {},
     "output_type": "execute_result"
    }
   ],
   "source": [
    "# Comprobamos tipos\n",
    "productos.dtypes"
   ]
  },
  {
   "cell_type": "markdown",
   "metadata": {
    "slideshow": {
     "slide_type": "fragment"
    }
   },
   "source": [
    "> `id` es de tipo `float64` en `clientes_pedidos` y de tipo `str` (string) en `productos`.\n",
    "\n",
    "Cambiamos el tipo de `id` en `clientes_pedidos`:"
   ]
  },
  {
   "cell_type": "code",
   "execution_count": 9,
   "metadata": {
    "slideshow": {
     "slide_type": "fragment"
    }
   },
   "outputs": [],
   "source": [
    "clientes_pedidos['id'] = clientes_pedidos['id'].astype(str)"
   ]
  },
  {
   "cell_type": "markdown",
   "metadata": {
    "slideshow": {
     "slide_type": "slide"
    }
   },
   "source": [
    "Volvemos a intentar el `merge`"
   ]
  },
  {
   "cell_type": "code",
   "execution_count": 10,
   "metadata": {
    "slideshow": {
     "slide_type": "fragment"
    }
   },
   "outputs": [
    {
     "data": {
      "text/html": [
       "<div>\n",
       "<style scoped>\n",
       "    .dataframe tbody tr th:only-of-type {\n",
       "        vertical-align: middle;\n",
       "    }\n",
       "\n",
       "    .dataframe tbody tr th {\n",
       "        vertical-align: top;\n",
       "    }\n",
       "\n",
       "    .dataframe thead th {\n",
       "        text-align: right;\n",
       "    }\n",
       "</style>\n",
       "<table border=\"1\" class=\"dataframe\">\n",
       "  <thead>\n",
       "    <tr style=\"text-align: right;\">\n",
       "      <th></th>\n",
       "      <th>dni</th>\n",
       "      <th>nombre</th>\n",
       "      <th>apellido1</th>\n",
       "      <th>apellido2</th>\n",
       "      <th>id</th>\n",
       "      <th>id_producto</th>\n",
       "    </tr>\n",
       "  </thead>\n",
       "  <tbody>\n",
       "  </tbody>\n",
       "</table>\n",
       "</div>"
      ],
      "text/plain": [
       "Empty DataFrame\n",
       "Columns: [dni, nombre, apellido1, apellido2, id, id_producto]\n",
       "Index: []"
      ]
     },
     "execution_count": 10,
     "metadata": {},
     "output_type": "execute_result"
    }
   ],
   "source": [
    "clientes_pedidos.merge(productos)"
   ]
  },
  {
   "cell_type": "markdown",
   "metadata": {
    "slideshow": {
     "slide_type": "fragment"
    }
   },
   "source": [
    "> Como era esperado, obtenemos ahora un `DataFrame` vacío porque las columnas comunes `id` y `nombre` no contienen información sobre los mismos elementos y no tienen valores en común."
   ]
  },
  {
   "cell_type": "markdown",
   "metadata": {
    "slideshow": {
     "slide_type": "slide"
    }
   },
   "source": [
    "## Para arreglar este problema:\n",
    "\n",
    "Para empezar, vamos a cambiar los nombres de las columnas conflictivas de `productos`"
   ]
  },
  {
   "cell_type": "code",
   "execution_count": 11,
   "metadata": {},
   "outputs": [
    {
     "data": {
      "text/html": [
       "<div>\n",
       "<style scoped>\n",
       "    .dataframe tbody tr th:only-of-type {\n",
       "        vertical-align: middle;\n",
       "    }\n",
       "\n",
       "    .dataframe tbody tr th {\n",
       "        vertical-align: top;\n",
       "    }\n",
       "\n",
       "    .dataframe thead th {\n",
       "        text-align: right;\n",
       "    }\n",
       "</style>\n",
       "<table border=\"1\" class=\"dataframe\">\n",
       "  <thead>\n",
       "    <tr style=\"text-align: right;\">\n",
       "      <th></th>\n",
       "      <th>id</th>\n",
       "      <th>nombre_producto</th>\n",
       "    </tr>\n",
       "  </thead>\n",
       "  <tbody>\n",
       "    <tr>\n",
       "      <th>0</th>\n",
       "      <td>AAA123</td>\n",
       "      <td>Pila</td>\n",
       "    </tr>\n",
       "    <tr>\n",
       "      <th>1</th>\n",
       "      <td>SOX433</td>\n",
       "      <td>Bombilla</td>\n",
       "    </tr>\n",
       "    <tr>\n",
       "      <th>2</th>\n",
       "      <td>QWE000</td>\n",
       "      <td>Interruptor</td>\n",
       "    </tr>\n",
       "    <tr>\n",
       "      <th>3</th>\n",
       "      <td>PII342</td>\n",
       "      <td>Enchufe</td>\n",
       "    </tr>\n",
       "    <tr>\n",
       "      <th>4</th>\n",
       "      <td>ZXY099</td>\n",
       "      <td>Toma</td>\n",
       "    </tr>\n",
       "  </tbody>\n",
       "</table>\n",
       "</div>"
      ],
      "text/plain": [
       "       id nombre_producto\n",
       "0  AAA123            Pila\n",
       "1  SOX433        Bombilla\n",
       "2  QWE000     Interruptor\n",
       "3  PII342         Enchufe\n",
       "4  ZXY099            Toma"
      ]
     },
     "execution_count": 11,
     "metadata": {},
     "output_type": "execute_result"
    }
   ],
   "source": [
    "productos.rename(columns={'nombre': 'nombre_producto'}, inplace=True)\n",
    "productos"
   ]
  },
  {
   "cell_type": "markdown",
   "metadata": {
    "slideshow": {
     "slide_type": "fragment"
    }
   },
   "source": [
    "> Ahora vamos a usar los argumentos `left_on` y `right_on` para especificar sobre qué columna del `DataFrame` de la izquierda y qué columna del `DataFrame` de la derecha nos vamos a basar para casar filas"
   ]
  },
  {
   "cell_type": "code",
   "execution_count": 12,
   "metadata": {
    "slideshow": {
     "slide_type": "fragment"
    }
   },
   "outputs": [
    {
     "data": {
      "text/html": [
       "<div>\n",
       "<style scoped>\n",
       "    .dataframe tbody tr th:only-of-type {\n",
       "        vertical-align: middle;\n",
       "    }\n",
       "\n",
       "    .dataframe tbody tr th {\n",
       "        vertical-align: top;\n",
       "    }\n",
       "\n",
       "    .dataframe thead th {\n",
       "        text-align: right;\n",
       "    }\n",
       "</style>\n",
       "<table border=\"1\" class=\"dataframe\">\n",
       "  <thead>\n",
       "    <tr style=\"text-align: right;\">\n",
       "      <th></th>\n",
       "      <th>dni</th>\n",
       "      <th>nombre</th>\n",
       "      <th>apellido1</th>\n",
       "      <th>apellido2</th>\n",
       "      <th>id_x</th>\n",
       "      <th>id_producto</th>\n",
       "      <th>id_y</th>\n",
       "      <th>nombre_producto</th>\n",
       "    </tr>\n",
       "  </thead>\n",
       "  <tbody>\n",
       "    <tr>\n",
       "      <th>0</th>\n",
       "      <td>12345678</td>\n",
       "      <td>José</td>\n",
       "      <td>Pérez</td>\n",
       "      <td>Martínez</td>\n",
       "      <td>21.0</td>\n",
       "      <td>QWE000</td>\n",
       "      <td>QWE000</td>\n",
       "      <td>Interruptor</td>\n",
       "    </tr>\n",
       "    <tr>\n",
       "      <th>1</th>\n",
       "      <td>12345678</td>\n",
       "      <td>José</td>\n",
       "      <td>Pérez</td>\n",
       "      <td>Martínez</td>\n",
       "      <td>22.0</td>\n",
       "      <td>SOX433</td>\n",
       "      <td>SOX433</td>\n",
       "      <td>Bombilla</td>\n",
       "    </tr>\n",
       "    <tr>\n",
       "      <th>2</th>\n",
       "      <td>23456789</td>\n",
       "      <td>Pedro</td>\n",
       "      <td>Martínez</td>\n",
       "      <td>Moreno</td>\n",
       "      <td>12.0</td>\n",
       "      <td>SOX433</td>\n",
       "      <td>SOX433</td>\n",
       "      <td>Bombilla</td>\n",
       "    </tr>\n",
       "    <tr>\n",
       "      <th>3</th>\n",
       "      <td>12345678</td>\n",
       "      <td>José</td>\n",
       "      <td>Pérez</td>\n",
       "      <td>Martínez</td>\n",
       "      <td>24.0</td>\n",
       "      <td>PII342</td>\n",
       "      <td>PII342</td>\n",
       "      <td>Enchufe</td>\n",
       "    </tr>\n",
       "    <tr>\n",
       "      <th>4</th>\n",
       "      <td>23456789</td>\n",
       "      <td>Pedro</td>\n",
       "      <td>Martínez</td>\n",
       "      <td>Moreno</td>\n",
       "      <td>10.0</td>\n",
       "      <td>AAA123</td>\n",
       "      <td>AAA123</td>\n",
       "      <td>Pila</td>\n",
       "    </tr>\n",
       "    <tr>\n",
       "      <th>5</th>\n",
       "      <td>34567890</td>\n",
       "      <td>María</td>\n",
       "      <td>Sánchez</td>\n",
       "      <td>Meseguer</td>\n",
       "      <td>25.0</td>\n",
       "      <td>ZXY099</td>\n",
       "      <td>ZXY099</td>\n",
       "      <td>Toma</td>\n",
       "    </tr>\n",
       "  </tbody>\n",
       "</table>\n",
       "</div>"
      ],
      "text/plain": [
       "        dni nombre apellido1 apellido2  id_x id_producto    id_y  \\\n",
       "0  12345678   José     Pérez  Martínez  21.0      QWE000  QWE000   \n",
       "1  12345678   José     Pérez  Martínez  22.0      SOX433  SOX433   \n",
       "2  23456789  Pedro  Martínez    Moreno  12.0      SOX433  SOX433   \n",
       "3  12345678   José     Pérez  Martínez  24.0      PII342  PII342   \n",
       "4  23456789  Pedro  Martínez    Moreno  10.0      AAA123  AAA123   \n",
       "5  34567890  María   Sánchez  Meseguer  25.0      ZXY099  ZXY099   \n",
       "\n",
       "  nombre_producto  \n",
       "0     Interruptor  \n",
       "1        Bombilla  \n",
       "2        Bombilla  \n",
       "3         Enchufe  \n",
       "4            Pila  \n",
       "5            Toma  "
      ]
     },
     "execution_count": 12,
     "metadata": {},
     "output_type": "execute_result"
    }
   ],
   "source": [
    "clientes_pedidos.merge(productos, left_on='id_producto', right_on='id')"
   ]
  },
  {
   "cell_type": "markdown",
   "metadata": {
    "slideshow": {
     "slide_type": "slide"
    }
   },
   "source": [
    "`merge` ha añadido sufijos a los nombres de las columnas comunes para diferenciarlas, podríamos haber especificado nuestros propios sufijos con el parámetro `suffixes`"
   ]
  },
  {
   "cell_type": "code",
   "execution_count": 14,
   "metadata": {
    "slideshow": {
     "slide_type": "fragment"
    }
   },
   "outputs": [
    {
     "data": {
      "text/html": [
       "<div>\n",
       "<style scoped>\n",
       "    .dataframe tbody tr th:only-of-type {\n",
       "        vertical-align: middle;\n",
       "    }\n",
       "\n",
       "    .dataframe tbody tr th {\n",
       "        vertical-align: top;\n",
       "    }\n",
       "\n",
       "    .dataframe thead th {\n",
       "        text-align: right;\n",
       "    }\n",
       "</style>\n",
       "<table border=\"1\" class=\"dataframe\">\n",
       "  <thead>\n",
       "    <tr style=\"text-align: right;\">\n",
       "      <th></th>\n",
       "      <th>dni</th>\n",
       "      <th>nombre</th>\n",
       "      <th>apellido1</th>\n",
       "      <th>apellido2</th>\n",
       "      <th>id_pedido</th>\n",
       "      <th>id_producto</th>\n",
       "      <th>id_producto</th>\n",
       "      <th>nombre_producto</th>\n",
       "    </tr>\n",
       "  </thead>\n",
       "  <tbody>\n",
       "    <tr>\n",
       "      <th>0</th>\n",
       "      <td>12345678</td>\n",
       "      <td>José</td>\n",
       "      <td>Pérez</td>\n",
       "      <td>Martínez</td>\n",
       "      <td>21.0</td>\n",
       "      <td>QWE000</td>\n",
       "      <td>QWE000</td>\n",
       "      <td>Interruptor</td>\n",
       "    </tr>\n",
       "    <tr>\n",
       "      <th>1</th>\n",
       "      <td>12345678</td>\n",
       "      <td>José</td>\n",
       "      <td>Pérez</td>\n",
       "      <td>Martínez</td>\n",
       "      <td>22.0</td>\n",
       "      <td>SOX433</td>\n",
       "      <td>SOX433</td>\n",
       "      <td>Bombilla</td>\n",
       "    </tr>\n",
       "    <tr>\n",
       "      <th>2</th>\n",
       "      <td>23456789</td>\n",
       "      <td>Pedro</td>\n",
       "      <td>Martínez</td>\n",
       "      <td>Moreno</td>\n",
       "      <td>12.0</td>\n",
       "      <td>SOX433</td>\n",
       "      <td>SOX433</td>\n",
       "      <td>Bombilla</td>\n",
       "    </tr>\n",
       "    <tr>\n",
       "      <th>3</th>\n",
       "      <td>12345678</td>\n",
       "      <td>José</td>\n",
       "      <td>Pérez</td>\n",
       "      <td>Martínez</td>\n",
       "      <td>24.0</td>\n",
       "      <td>PII342</td>\n",
       "      <td>PII342</td>\n",
       "      <td>Enchufe</td>\n",
       "    </tr>\n",
       "    <tr>\n",
       "      <th>4</th>\n",
       "      <td>23456789</td>\n",
       "      <td>Pedro</td>\n",
       "      <td>Martínez</td>\n",
       "      <td>Moreno</td>\n",
       "      <td>10.0</td>\n",
       "      <td>AAA123</td>\n",
       "      <td>AAA123</td>\n",
       "      <td>Pila</td>\n",
       "    </tr>\n",
       "    <tr>\n",
       "      <th>5</th>\n",
       "      <td>34567890</td>\n",
       "      <td>María</td>\n",
       "      <td>Sánchez</td>\n",
       "      <td>Meseguer</td>\n",
       "      <td>25.0</td>\n",
       "      <td>ZXY099</td>\n",
       "      <td>ZXY099</td>\n",
       "      <td>Toma</td>\n",
       "    </tr>\n",
       "  </tbody>\n",
       "</table>\n",
       "</div>"
      ],
      "text/plain": [
       "        dni nombre apellido1 apellido2 id_pedido id_producto id_producto  \\\n",
       "0  12345678   José     Pérez  Martínez      21.0      QWE000      QWE000   \n",
       "1  12345678   José     Pérez  Martínez      22.0      SOX433      SOX433   \n",
       "2  23456789  Pedro  Martínez    Moreno      12.0      SOX433      SOX433   \n",
       "3  12345678   José     Pérez  Martínez      24.0      PII342      PII342   \n",
       "4  23456789  Pedro  Martínez    Moreno      10.0      AAA123      AAA123   \n",
       "5  34567890  María   Sánchez  Meseguer      25.0      ZXY099      ZXY099   \n",
       "\n",
       "  nombre_producto  \n",
       "0     Interruptor  \n",
       "1        Bombilla  \n",
       "2        Bombilla  \n",
       "3         Enchufe  \n",
       "4            Pila  \n",
       "5            Toma  "
      ]
     },
     "execution_count": 14,
     "metadata": {},
     "output_type": "execute_result"
    }
   ],
   "source": [
    "clientes_pedidos.merge(productos, left_on='id_producto', right_on='id', suffixes=['_pedido','_producto'])"
   ]
  }
 ],
 "metadata": {
  "kernelspec": {
   "display_name": "Python 3",
   "language": "python",
   "name": "python3"
  },
  "language_info": {
   "codemirror_mode": {
    "name": "ipython",
    "version": 3
   },
   "file_extension": ".py",
   "mimetype": "text/x-python",
   "name": "python",
   "nbconvert_exporter": "python",
   "pygments_lexer": "ipython3",
   "version": "3.7.9"
  }
 },
 "nbformat": 4,
 "nbformat_minor": 4
}
