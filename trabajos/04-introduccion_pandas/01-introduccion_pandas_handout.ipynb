{
 "cells": [
  {
   "cell_type": "markdown",
   "metadata": {},
   "source": [
    "# Creación y primeras manipulaciones de `Series` y `DataFrame` con pandas\n",
    "## Crear manualmente las `Series` y `DataFrame` siguientes:"
   ]
  },
  {
   "cell_type": "code",
   "execution_count": 1,
   "metadata": {},
   "outputs": [],
   "source": [
    "# Completar aquí\n",
    "\n",
    "# --------------------\n"
   ]
  },
  {
   "cell_type": "markdown",
   "metadata": {},
   "source": [
    "Para el siguiente, usad un `dict` como argumento de `pd.Series`"
   ]
  },
  {
   "cell_type": "code",
   "execution_count": 2,
   "metadata": {},
   "outputs": [],
   "source": [
    "# Completar aquí\n",
    "\n",
    "# --------------------\n"
   ]
  },
  {
   "cell_type": "code",
   "execution_count": 3,
   "metadata": {},
   "outputs": [],
   "source": [
    "# Completar aquí\n",
    "\n",
    "# --------------------\n"
   ]
  },
  {
   "cell_type": "markdown",
   "metadata": {},
   "source": [
    "Para el siguiente, usad un diccionario de `Series`."
   ]
  },
  {
   "cell_type": "code",
   "execution_count": 4,
   "metadata": {},
   "outputs": [],
   "source": [
    "# Completar aquí\n",
    "\n",
    "# --------------------\n"
   ]
  },
  {
   "cell_type": "markdown",
   "metadata": {},
   "source": [
    "## Carga de datos\n",
    "\n",
    "Empezad por importar el submódulo `path` de `os` y definir DATA_DIRECTORY"
   ]
  },
  {
   "cell_type": "code",
   "execution_count": 5,
   "metadata": {},
   "outputs": [],
   "source": [
    "# Completar aquí\n",
    "\n",
    "# --------------------\n"
   ]
  },
  {
   "cell_type": "markdown",
   "metadata": {},
   "source": [
    "1. Cargar dos de los ficheros de datos que tenéis en el archivo comprimido datos.zip. Está situado en la carpeta data del Aula virtual. Para cada uno de ellos, indicad cuántas filas y cuántas columnas tiene."
   ]
  },
  {
   "cell_type": "markdown",
   "metadata": {},
   "source": [
    "2. Cargad el fichero datos_cairo.csv\n",
    "Una vez que lo habéis cargado en un DataFrame, obtened los 5 primeras filas y las 5 últimas filas del conjunto.\n"
   ]
  },
  {
   "cell_type": "code",
   "execution_count": 6,
   "metadata": {},
   "outputs": [],
   "source": [
    "# Completar aquí\n",
    "\n",
    "# --------------------\n"
   ]
  },
  {
   "cell_type": "markdown",
   "metadata": {},
   "source": [
    "Calculad la media, la desviación típica de cada columna."
   ]
  },
  {
   "cell_type": "code",
   "execution_count": 7,
   "metadata": {},
   "outputs": [],
   "source": [
    "# Completar aquí\n",
    "\n",
    "# --------------------\n"
   ]
  },
  {
   "cell_type": "markdown",
   "metadata": {},
   "source": [
    "\n",
    "\n",
    "\n",
    "Realizad una representación gráfica, usando  el método `plot.scatter` Referencia [aquí](https://pandas.pydata.org/pandas-docs/stable/reference/api/pandas.DataFrame.plot.scatter.html)"
   ]
  },
  {
   "cell_type": "markdown",
   "metadata": {},
   "source": [
    "\n",
    "3. Cargad el fichero mompean.csv.\n",
    " \n",
    "> Se trata de de un conjunto de datos asociados a los niveles de calidad del aire en la calle de Mompean, muy cerca de la ETSIT."
   ]
  },
  {
   "cell_type": "code",
   "execution_count": 8,
   "metadata": {},
   "outputs": [],
   "source": [
    "from IPython import display\n",
    "display.Image('https://multimediarepository.blob.core.windows.net/imagecontainer/918d76ed992e4c8ca117aa7b4a7f7156.jpg')\n"
   ]
  },
  {
   "cell_type": "markdown",
   "metadata": {},
   "source": [
    "Contiene las medias horarias de distintos indicadores de Calidad del aire: NO (µg/m³N)\tNO2 (µg/m³N)\tSO2 (µg/m³N)\tO3 (µg/m³N)\tTMP (ºC)\tHR (Humedad Relativa % H.R.)\tNOX (µg/m³N)\tDD (Dirección del viento, grados)\tPRB (Presión atmosférica, mb)\tRS (Radiación Solar W/m³)\tVV (Velocidad viento m/s)\tC6H6 (µg/m³N)\tC7H8 (µg/m³N)\tXIL (µg/m³N)\tPM10 (µg/m³N)\tRuido (dBA)\n",
    "\n"
   ]
  },
  {
   "cell_type": "code",
   "execution_count": 9,
   "metadata": {},
   "outputs": [],
   "source": [
    "# Completar aquí\n",
    "\n",
    "# --------------------\n"
   ]
  },
  {
   "cell_type": "markdown",
   "metadata": {},
   "source": [
    "- Cuántas filas y cuántas columnas tiene el conjunto?\n",
    "- De qué tipo es cada columna? \n",
    "- Cuál es rango de tiempo para los que tenemos mediciones?\n",
    "- Qué quiere decir \"NaN\"? A qué corresponde según vosotros?\n",
    "- Usando el método `info`, obtened, para cada columna, los números de datos faltantes. \n"
   ]
  },
  {
   "cell_type": "markdown",
   "metadata": {},
   "source": [
    "Para simplificar el conjunto, vamos a quitar todas las columnas que sólo tengan datos faltantes. Para ello, podéis usar el método `dropna` de pandas, comprobando su [referencia](https://pandas.pydata.org/pandas-docs/stable/reference/api/pandas.DataFrame.dropna.html)"
   ]
  },
  {
   "cell_type": "code",
   "execution_count": 10,
   "metadata": {},
   "outputs": [],
   "source": [
    "# Completar aquí \n",
    "\n",
    "# --------------------\n"
   ]
  },
  {
   "cell_type": "markdown",
   "metadata": {},
   "source": [
    "Vamos a indicar a pandas, en el momento de cargar el fichero, que parsee la columna FechaHora como un objeto de tipo DateTime. Pare ello, consultad la [referencia](https://pandas.pydata.org/pandas-docs/stable/reference/api/pandas.read_csv.html) de `read_csv` y encontrad qué parámetro se puede usar."
   ]
  },
  {
   "cell_type": "code",
   "execution_count": 11,
   "metadata": {},
   "outputs": [],
   "source": [
    "# Completar aquí\n",
    "\n",
    "# --------------------\n"
   ]
  },
  {
   "cell_type": "markdown",
   "metadata": {},
   "source": [
    "Volved a descartas las columnas que sólo tienen datos faltantes y comprobad el resultado con el método `info`"
   ]
  },
  {
   "cell_type": "code",
   "execution_count": 12,
   "metadata": {},
   "outputs": [],
   "source": [
    "# Completar aquí\n",
    "\n",
    "# --------------------\n"
   ]
  },
  {
   "cell_type": "markdown",
   "metadata": {},
   "source": [
    "Qué tipo de `index` tiene ahora mismo nuestro conjunto? Si quisieramos usar una de las columnas del conjunto como etiqueta de cada fila, y por lo tanto definirla como nuestro `index`, cuál sería una elección natural?\n",
    "Realizad esta definición de `index` usando el método `set_index` de pandas. Referencia [aquí](https://pandas.pydata.org/pandas-docs/stable/reference/api/pandas.DataFrame.set_index.html) "
   ]
  },
  {
   "cell_type": "code",
   "execution_count": 13,
   "metadata": {},
   "outputs": [],
   "source": [
    "# Completar aquí\n",
    "\n",
    "# --------------------\n"
   ]
  },
  {
   "cell_type": "markdown",
   "metadata": {},
   "source": [
    "Para obtener unas primeras representaciones gráficas, usad el método plot aplicado a nuestro dataframe"
   ]
  },
  {
   "cell_type": "code",
   "execution_count": 14,
   "metadata": {},
   "outputs": [],
   "source": [
    "# Completar aquí\n",
    "\n",
    "# --------------------\n"
   ]
  }
 ],
 "metadata": {
  "kernelspec": {
   "display_name": "Python 3 (ipykernel)",
   "language": "python",
   "name": "python3"
  },
  "language_info": {
   "codemirror_mode": {
    "name": "ipython",
    "version": 3
   },
   "file_extension": ".py",
   "mimetype": "text/x-python",
   "name": "python",
   "nbconvert_exporter": "python",
   "pygments_lexer": "ipython3",
   "version": "3.9.8"
  }
 },
 "nbformat": 4,
 "nbformat_minor": 4
}
